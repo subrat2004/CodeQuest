{
 "cells": [
  {
   "cell_type": "code",
   "execution_count": 2,
   "id": "41193899",
   "metadata": {},
   "outputs": [
    {
     "name": "stdout",
     "output_type": "stream",
     "text": [
      "3863\n"
     ]
    }
   ],
   "source": [
    "# Import required packages\n",
    "from selenium import webdriver\n",
    "from selenium.webdriver.common.by import By\n",
    "from selenium.webdriver.chrome.service import Service\n",
    "from selenium.webdriver.support.ui import WebDriverWait\n",
    "from selenium.webdriver.support import expected_conditions as EC\n",
    "from webdriver_manager.chrome import ChromeDriverManager\n",
    "import time\n",
    "from bs4 import BeautifulSoup\n",
    "\n",
    "# Define the chromedriver service\n",
    "s = Service('chromedriver.exe')\n",
    "\n",
    "# Instantiate the webdriver\n",
    "driver = webdriver.Chrome(service=s)\n",
    "\n",
    "# The base URL for the pages to scrape\n",
    "page_URL = \"https://leetcode.com/problemset/all/?page=\"\n",
    "\n",
    "# Function to get all the 'a' tags from a given URL\n",
    "\n",
    "\n",
    "def get_a_tags(url):\n",
    "    # Load the URL in the browser\n",
    "    driver.get(url)\n",
    "    # Wait for 7 seconds to ensure the page is fully loaded\n",
    "    time.sleep(7)\n",
    "    # Find all the 'a' elements on the page\n",
    "    links = driver.find_elements(By.TAG_NAME, \"a\")\n",
    "    ans = []\n",
    "    # Iterate over each 'a' element\n",
    "    for i in links:\n",
    "        try:\n",
    "            # Check if '/problems/' is in the href of the 'a' element\n",
    "            if \"/problems/\" in i.get_attribute(\"href\"):\n",
    "                # If it is, append it to the list of links\n",
    "                ans.append(i.get_attribute(\"href\"))\n",
    "        except:\n",
    "            pass\n",
    "    # Remove duplicate links using set\n",
    "    ans = list(set(ans))\n",
    "    return ans\n",
    "\n",
    "\n",
    "# List to store the final list of links\n",
    "my_ans = []\n",
    "# Loop through the pages you're interested in (in this case, pages 1-54)\n",
    "for i in range(1, 55):\n",
    "    # Call the function to get the 'a' tags from each page and append the results to your list\n",
    "    my_ans += (get_a_tags(page_URL+str(i)))\n",
    "\n",
    "# Remove any duplicates that might have been introduced in the process\n",
    "my_ans = list(set(my_ans))\n",
    "\n",
    "# Open a file to write the results to\n",
    "with open('lc.txt', 'a') as f:\n",
    "    # Iterate over each link in your final list\n",
    "    for j in my_ans:\n",
    "        # Write each link to the file, followed by a newline\n",
    "        f.write(j+'\\n')\n",
    "\n",
    "# Print the total number of unique links found\n",
    "print(len(my_ans))\n",
    "\n",
    "# Close the browser\n",
    "driver.quit()"
   ]
  },
  {
   "cell_type": "code",
   "execution_count": null,
   "id": "2728c2b2",
   "metadata": {},
   "outputs": [],
   "source": []
  }
 ],
 "metadata": {
  "kernelspec": {
   "display_name": "Python 3 (ipykernel)",
   "language": "python",
   "name": "python3"
  },
  "language_info": {
   "codemirror_mode": {
    "name": "ipython",
    "version": 3
   },
   "file_extension": ".py",
   "mimetype": "text/x-python",
   "name": "python",
   "nbconvert_exporter": "python",
   "pygments_lexer": "ipython3",
   "version": "3.9.12"
  }
 },
 "nbformat": 4,
 "nbformat_minor": 5
}
